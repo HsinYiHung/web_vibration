{
 "cells": [
  {
   "cell_type": "code",
   "execution_count": null,
   "metadata": {},
   "outputs": [],
   "source": []
  },
  {
   "cell_type": "code",
   "execution_count": null,
   "metadata": {},
   "outputs": [],
   "source": []
  },
  {
   "cell_type": "markdown",
   "metadata": {},
   "source": [
    "### Globals"
   ]
  },
  {
   "cell_type": "code",
   "execution_count": 2,
   "metadata": {},
   "outputs": [],
   "source": [
    "fname  = '/Users/Andrew/OneDrive/Desktop/Gordus Lab/Neuron Tracking/noisy test.tif' # noisy\n",
    "# fname = '/Users/Andrew/Desktop/Gordus Lab/Neuron Tracking/ctest2.tif'"
   ]
  },
  {
   "cell_type": "code",
   "execution_count": 3,
   "metadata": {},
   "outputs": [],
   "source": [
    "#import os, sys, gc, regex as re, time\n",
    "import os\n",
    "import sys\n",
    "import gc\n",
    "import regex as re\n",
    "import time\n",
    "#import numpy as np, pandas as pd\n",
    "import numpy as np\n",
    "import pandas as pd\n",
    "#import matplotlib.pyplot as plt, tifffile\n",
    "import matplotlib.pyplot as plt\n",
    "import tifffile\n",
    "#from tqdm import tqdm_notebook as tqdm\n",
    "\n",
    "#import suite2p\n",
    "#from suite2p.run_s2p import run_s2p\n",
    "\n",
    "import flika as flk\n",
    "from flika.window import Window as flw\n",
    "from shapely.geometry.polygon import Polygon\n",
    "from shapely.geometry.point import Point\n",
    "import skimage as ski\n",
    "#from skimage import feature\n",
    "import cv2\n",
    "\n",
    "#import glob"
   ]
  },
  {
   "cell_type": "markdown",
   "metadata": {},
   "source": [
    "### Imports"
   ]
  },
  {
   "cell_type": "markdown",
   "metadata": {},
   "source": [
    "### Annotate ROIs"
   ]
  },
  {
   "cell_type": "code",
   "execution_count": 4,
   "metadata": {},
   "outputs": [
    {
     "name": "stdout",
     "output_type": "stream",
     "text": [
      "Starting flika\n",
      "Starting flika inside IPython\n"
     ]
    }
   ],
   "source": [
    "# Open Flika\n",
    "flkApp = flk.start_flika()"
   ]
  },
  {
   "cell_type": "code",
   "execution_count": null,
   "metadata": {},
   "outputs": [],
   "source": []
  },
  {
   "cell_type": "code",
   "execution_count": 5,
   "metadata": {},
   "outputs": [
    {
     "data": {
      "text/plain": [
       "'/Users/Andrew/OneDrive/Desktop/Gordus Lab/Neuron Tracking/noisy test.txt'"
      ]
     },
     "execution_count": 5,
     "metadata": {},
     "output_type": "execute_result"
    }
   ],
   "source": [
    "# Determine text file to save/load from\n",
    "fnameFlika = fname.replace('.tif','') + '.txt'\n",
    "fnameFlika"
   ]
  },
  {
   "cell_type": "code",
   "execution_count": 6,
   "metadata": {},
   "outputs": [],
   "source": [
    "np.save(fname + '_test.npy', fnameFlika)"
   ]
  },
  {
   "cell_type": "code",
   "execution_count": 7,
   "metadata": {},
   "outputs": [],
   "source": [
    "# Create reference for ROI annotation\n",
    "img = tifffile.imread(fname)\n",
    "refImg = np.mean(img, axis=0)"
   ]
  },
  {
   "cell_type": "code",
   "execution_count": 8,
   "metadata": {},
   "outputs": [],
   "source": [
    "# Read and display reference image\n",
    "flwROIs = flw(refImg)"
   ]
  },
  {
   "cell_type": "code",
   "execution_count": 9,
   "metadata": {},
   "outputs": [],
   "source": [
    "# Did we already start an annotation?\n",
    "if os.path.exists(fnameFlika):\n",
    "    flk.roi.open_rois(fnameFlika)"
   ]
  },
  {
   "cell_type": "code",
   "execution_count": 10,
   "metadata": {},
   "outputs": [],
   "source": [
    "# When we're done manually annotating, run this to save ROIs\n",
    "flwROIs.save_rois(fnameFlika)"
   ]
  },
  {
   "cell_type": "code",
   "execution_count": 11,
   "metadata": {},
   "outputs": [],
   "source": [
    "# Load ROIs\n",
    "roi = flk.roi.open_rois(fnameFlika)\n",
    "ROIs = [x.getPoints() for x in roi]"
   ]
  },
  {
   "cell_type": "code",
   "execution_count": 12,
   "metadata": {},
   "outputs": [
    {
     "name": "stdout",
     "output_type": "stream",
     "text": [
      "None\n"
     ]
    }
   ],
   "source": [
    "def makePolygon(x):\n",
    "    try:\n",
    "        return Polygon(x)\n",
    "    except:\n",
    "        return None\n",
    "print(makePolygon(ROIs))"
   ]
  },
  {
   "cell_type": "code",
   "execution_count": 13,
   "metadata": {},
   "outputs": [],
   "source": [
    "# Convert to polygons\n",
    "ROIs = [makePolygon(roi) for roi in ROIs if makePolygon(roi) is not None]"
   ]
  },
  {
   "cell_type": "code",
   "execution_count": 14,
   "metadata": {},
   "outputs": [],
   "source": [
    "# Create a mask for every ROI\n",
    "masks = []\n",
    "#for roi in tqdm(ROIs, desc='Compute masks', leave=False):\n",
    "for roi in ROIs:\n",
    "    mask = np.zeros(img.shape[1:], dtype=np.bool)\n",
    "    for x in range(mask.shape[0]):\n",
    "        for y in range(mask.shape[1]):\n",
    "            if roi.contains(Point(x, y)):\n",
    "                mask[x, y] = True\n",
    "    masks.append(mask)\n",
    "    "
   ]
  },
  {
   "cell_type": "code",
   "execution_count": 15,
   "metadata": {
    "scrolled": true
   },
   "outputs": [
    {
     "name": "stdout",
     "output_type": "stream",
     "text": [
      "0\n"
     ]
    },
    {
     "data": {
      "text/plain": [
       "<matplotlib.image.AxesImage at 0x17cbf9d2988>"
      ]
     },
     "execution_count": 15,
     "metadata": {},
     "output_type": "execute_result"
    },
    {
     "data": {
      "image/png": "[encoded data removed]",
      "text/plain": [
       "<Figure size 432x288 with 1 Axes>"
      ]
     },
     "metadata": {
      "needs_background": "light"
     },
     "output_type": "display_data"
    }
   ],
   "source": [
    "z = np.multiply(masks[0],1)\n",
    "print(min(z.flatten()))\n",
    "plt.imshow(masks[0])"
   ]
  },
  {
   "cell_type": "markdown",
   "metadata": {},
   "source": []
  },
  {
   "cell_type": "code",
   "execution_count": 16,
   "metadata": {
    "scrolled": true
   },
   "outputs": [],
   "source": [
    "# intensitytotal = []\n",
    "# num_pixels = []\n",
    "# for nframe in nframes:\n",
    "#     thres_mask = cv2.threshold(img[nframe,:], 377, 65535, cv2.THRESH_BINARY)[1]\n",
    "#     k = img[nframe,:]*thres_mask\n",
    "#     pixels = np.sum(thres_mask)\n",
    "#     num_pixels.append(pixels)\n",
    "#     intensitytotal.append(np.sum(k))\n",
    "# plt.figure(1)\n",
    "# plt.plot(intensitytotal)\n",
    "# plt.figure(2)\n",
    "# plt.plot(num_pixels)\n"
   ]
  },
  {
   "cell_type": "markdown",
   "metadata": {},
   "source": [
    "### Blob Detection"
   ]
  },
  {
   "cell_type": "code",
   "execution_count": 17,
   "metadata": {},
   "outputs": [],
   "source": [
    "# Setup SimpleBlobDetector parameters.\n",
    "params = cv2.SimpleBlobDetector_Params()\n",
    "params.filterByArea = True\n",
    "params.filterByColor = False\n",
    "params.filterByCircularity = False\n",
    "params.filterByConvexity = False\n",
    "params.filterByInertia = False\n",
    "params.minArea = 1\n",
    "params.maxArea = 10000\n",
    "params.minThreshold = 1\n",
    "params.maxThreshold = 10000\n",
    "\n",
    "detector = cv2.SimpleBlobDetector_create(params)\n",
    "\n",
    "# def adjustThreshMask8bit(pixelnumber, Pixels, thresh_bound, prethresh):\n",
    "#     thresh_mask = prethresh\n",
    "#     while pixelnumber > Pixels:\n",
    "#         thresh_bound += 1\n",
    "#         thresh_mask = cv2.threshold(prethresh, thresh_bound, 256, cv2.THRESH_BINARY)[1]\n",
    "#         bool_thresh_mask = thresh_mask > 0\n",
    "#         pixelnumber = np.sum(bool_thresh_mask.flatten())\n",
    "#         thresh_mask = thresh_mask.astype('uint8')\n",
    "#     return [thresh_mask, pixelnumber,thresh_bound]"
   ]
  },
  {
   "cell_type": "code",
   "execution_count": 18,
   "metadata": {},
   "outputs": [
    {
     "name": "stdout",
     "output_type": "stream",
     "text": [
      "88485\n"
     ]
    },
    {
     "data": {
      "text/plain": [
       "<matplotlib.image.AxesImage at 0x17cbfa82f08>"
      ]
     },
     "execution_count": 18,
     "metadata": {},
     "output_type": "execute_result"
    },
    {
     "data": {
      "image/png": "[encoded data removed]",
      "text/plain": [
       "<Figure size 432x288 with 1 Axes>"
      ]
     },
     "metadata": {
      "needs_background": "light"
     },
     "output_type": "display_data"
    }
   ],
   "source": [
    "# Threshold Lower Bound Guess\n",
    "img8bitmask = cv2.convertScaleAbs(masks[0] * img[0,:])\n",
    "img8bittest = cv2.threshold(img8bitmask, 0, 256, cv2.THRESH_BINARY)[1]\n",
    "# img8bittest = img8bittest > 0\n",
    "pixelnumber = sum(img8bittest.flatten())\n",
    "print(pixelnumber)\n",
    "plt.figure(); plt.imshow(img8bittest)"
   ]
  },
  {
   "cell_type": "markdown",
   "metadata": {},
   "source": [
    "### AVA Filter "
   ]
  },
  {
   "cell_type": "code",
   "execution_count": 19,
   "metadata": {},
   "outputs": [],
   "source": [
    "# filter dimensions\n",
    "size = 50\n",
    "D = int(size/2)\n",
    "\n",
    "# create blob filter\n",
    "def gen_filter(D,image):\n",
    "    \n",
    "    # detect blob\n",
    "    \n",
    "    image = image.astype('uint8')\n",
    "    image = cv2.threshold(image,115,256,cv2.THRESH_BINARY)[1]\n",
    "    keypoints = detector.detect(image)\n",
    "    AVA_blob_center = keypoints[0].pt  # 0 = AVA\n",
    "    # construct box\n",
    "    blob_coord = list(map(round,AVA_blob_center))\n",
    "    x = int(blob_coord[0])\n",
    "    y = int(blob_coord[1])\n",
    "    filt = np.zeros(img.shape[1:], dtype = bool)\n",
    "    filt[y-D:y+D,x-D:x+D] = 1\n",
    "    return filt\n",
    "\n",
    "# filter generation and overlay \n",
    "firstAVAfilter=gen_filter(D,img8bittest)\n",
    "# plt.imshow(firstAVAfilter*img[0,:])"
   ]
  },
  {
   "cell_type": "code",
   "execution_count": null,
   "metadata": {},
   "outputs": [],
   "source": [
    "# Threshold test for blob detection\n",
    "\n",
    "test = cv2.threshold(firstAVAfilter*img[0,:],115,256,cv2.THRESH_BINARY)[1]\n",
    "test= test>0\n",
    "plt.imshow(test)"
   ]
  },
  {
   "cell_type": "markdown",
   "metadata": {},
   "source": [
    "### Tracking Algorithm"
   ]
  },
  {
   "cell_type": "code",
   "execution_count": 21,
   "metadata": {},
   "outputs": [],
   "source": [
    "def adjustThreshMask(PixelLimit, thresh_bound, prethresh):\n",
    "    \n",
    "    config = cv2.threshold(prethresh, thresh_bound, 65535, cv2.THRESH_BINARY)[1]\n",
    "    config = config > 0\n",
    "    pixelnumber = sum(sum(config))\n",
    "    thresh_mask = config\n",
    "    while pixelnumber > PixelLimit:\n",
    "        thresh_bound += 1\n",
    "        thresh_mask = cv2.threshold(prethresh, thresh_bound, 65535, cv2.THRESH_BINARY)[1]\n",
    "        thresh_mask = thresh_mask > 0\n",
    "        pixelnumber = sum(thresh_mask.flatten())\n",
    "    return [thresh_mask, pixelnumber,thresh_bound]"
   ]
  },
  {
   "cell_type": "code",
   "execution_count": 23,
   "metadata": {},
   "outputs": [
    {
     "data": {
      "image/png": "[encoded data removed]",
      "text/plain": [
       "<Figure size 432x288 with 1 Axes>"
      ]
     },
     "metadata": {
      "needs_background": "light"
     },
     "output_type": "display_data"
    }
   ],
   "source": [
    "img = tifffile.imread(fname)\n",
    "nframes = range(img.shape[0])\n",
    "\n",
    "PixelLimit = sum(sum(img8bittest > 0))\n",
    "prev_filter = firstAVAfilter\n",
    "# plt.imshow(img[0,:]*last_filter)\n",
    "num_pixels = []; intensitytotal = []\n",
    "thresh_bound = 0\n",
    "\n",
    "for nframe in nframes:\n",
    "    \n",
    "    # Sequester AVA Blob\n",
    "    new_filter = gen_filter(D,img[nframe,:]* prev_filter) # need to threshold image before gen_filter/blob_detection\n",
    "    AVAfilter = img[nframe,:]*new_filter\n",
    "    prev_filter = new_filter\n",
    "    \n",
    "    # Detect up to Pixel Limit     \n",
    "    par = adjustThreshMask(PixelLimit , thresh_bound, AVAfilter)\n",
    "    thresh_bound = par[2]\n",
    "    \n",
    "    # Total intensity and pixels testing\n",
    "    k = img[nframe,:]*par[0] \n",
    "    num_pixels.append(par[1])\n",
    "    intensitytotal.append(sum(k.flatten())/par[1])\n",
    "    \n",
    "    # Circle on Centroid\n",
    "    coordinates = np.argwhere(par[0] == True)\n",
    "    centroid = np.sum(coordinates, axis = 0)/len(coordinates)   # REPLACE MOMENTS\n",
    "    cY = centroid[0]; cX = centroid[1]\n",
    "    \n",
    "    cv2.circle(img[nframe,:], (int(cX),int(cY)), 2, (255,0,0),-1)\n",
    "\n",
    "\n",
    "plt.plot(intensitytotal)\n",
    "plt.plot(num_pixels)\n",
    "\n",
    "fname2 = '/Users/Andrew/OneDrive/Desktop/Gordus Lab/Neuron Tracking/CentroidTesting.tif'\n",
    "tifffile.imwrite(fname2,img)\n"
   ]
  },
  {
   "cell_type": "code",
   "execution_count": 39,
   "metadata": {},
   "outputs": [
    {
     "data": {
      "text/plain": [
       "<matplotlib.image.AxesImage at 0x1fee262b248>"
      ]
     },
     "execution_count": 39,
     "metadata": {},
     "output_type": "execute_result"
    },
    {
     "data": {
      "image/png": "[encoded data removed]",
      "text/plain": [
       "<Figure size 432x288 with 1 Axes>"
      ]
     },
     "metadata": {
      "needs_background": "light"
     },
     "output_type": "display_data"
    }
   ],
   "source": [
    "plt.imshow(par[0])"
   ]
  },
  {
   "cell_type": "code",
   "execution_count": null,
   "metadata": {},
   "outputs": [],
   "source": [
    "### TESTING ### \n",
    "img = tifffile.imread(fname)\n",
    "\n",
    "AVAfilter = img[145,:]*gen_filter(D,145)\n",
    "    \n",
    "test_thresh_mask = cv2.threshold(AVAfilter, 377, 65535, cv2.THRESH_BINARY)[1]\n",
    "test_thresh_mask[test_thresh_mask > 0] = 1    \n",
    "\n",
    "# Detect up to Pixel Limit \n",
    "pixels = np.sum(test_thresh_mask)\n",
    "par = adjustThreshMask(pixels, PixelLimit,377,AVAfilter)\n",
    "\n",
    "k = img[145,:]*par[0]\n",
    "coordinates = np.argwhere(par[0] == True)\n",
    "M = cv2.moments(coordinates)\n",
    "centroid = np.sum(coordinates, axis = 0)/len(coordinates)   # REPLACE MOMENTS\n",
    "cY = centroid[0]; cX = centroid[1]\n",
    "\n",
    "# cY = int(M[\"m10\"] / M[\"m00\"])\n",
    "# cX = int(M[\"m01\"] / M[\"m00\"])\n",
    "cv2.circle(img[145,:], (int(cX),int(cY)), 2, (255,0,0),-1)\n",
    "\n",
    "\n",
    "plt.imshow(img[145,:])\n",
    "\n",
    "# plt.imshow(test_thresh_mask)\n",
    "# figure out Moments problems"
   ]
  },
  {
   "cell_type": "code",
   "execution_count": null,
   "metadata": {},
   "outputs": [],
   "source": [
    "# print(coordinates)\n",
    "x,y = zip(*coordinates)\n",
    "plt.scatter(x,y)\n",
    "print(img.shape[0])"
   ]
  },
  {
   "cell_type": "code",
   "execution_count": null,
   "metadata": {},
   "outputs": [],
   "source": [
    "#Centroid Calculations\n",
    "\n",
    "# coordinates = np.argwhere(par[0] == True)\n",
    "# M = cv2.moments(coordinates)\n",
    "# cY = int(M[\"m10\"] / M[\"m00\"])\n",
    "# cX = int(M[\"m01\"] / M[\"m00\"])\n",
    "# img = tifffile.imread(fname)\n",
    "# cv2.circle(img[5,:], (cX,cY), 2, (0,255,0),-1)\n",
    "# plt.imshow(img[5,:]"
   ]
  },
  {
   "cell_type": "code",
   "execution_count": null,
   "metadata": {},
   "outputs": [],
   "source": [
    "\n",
    "# mask = np.zeros(k.shape, dtype=np.uint8)\n",
    "# gray = cv2.cvtColor(k, cv2.COLOR_RGB2GRAY)\n",
    "# # thresh = cv2.threshold(gray, 0, 255, cv2.THRESH_BINARY + cv2.THRESH_OTSU)[1]\n",
    "\n",
    "# cnts = cv2.findContours(thresh, cv2.RETR_EXTERNAL, cv2.CHAIN_APPROX_SIMPLE)\n",
    "# cnts = cnts[0] if len(cnts) == 2 else cnts[1]\n",
    "# threshold_area = 0.5\n",
    "# for c in cnts:\n",
    "#     area = cv2.contourArea(c)\n",
    "#     if area > threshold_area:\n",
    "#         cv2.drawContours(mask, [c], -1, (36,255,12), -1)\n",
    "\n",
    "# cv2.imshow('mask', mask)\n",
    "# cv2.waitKey()"
   ]
  },
  {
   "cell_type": "code",
   "execution_count": null,
   "metadata": {},
   "outputs": [],
   "source": []
  },
  {
   "cell_type": "code",
   "execution_count": null,
   "metadata": {},
   "outputs": [],
   "source": [
    "plt.imshow(masks[0])"
   ]
  },
  {
   "cell_type": "code",
   "execution_count": null,
   "metadata": {},
   "outputs": [],
   "source": [
    "# def filterMask(T, maskID):\n",
    "#      newMask = np.zeros(masks[maskID].shape, dtype=np.bool)\n",
    "#      coords = np.argwhere(masks[maskID])[np.argsort(img[:,masks[maskID]], axis=1)[T,:] > int(np.sum(masks[maskID]) * 0.5)]\n",
    "#      newMask[coords[:,0], coords[:,1]] = True\n",
    "#      return newMask"
   ]
  },
  {
   "cell_type": "code",
   "execution_count": null,
   "metadata": {},
   "outputs": [],
   "source": [
    "# masksT = np.array([[filterMask(t, maskID) for t in range(img.shape[0])] for maskID in range(len(masks))])"
   ]
  },
  {
   "cell_type": "markdown",
   "metadata": {},
   "source": []
  },
  {
   "cell_type": "code",
   "execution_count": null,
   "metadata": {},
   "outputs": [],
   "source": [
    "# plt.imshow(masks[0])\n",
    "# plt.show()\n",
    "# plt.imshow(filterMask(0, 0))"
   ]
  },
  {
   "cell_type": "code",
   "execution_count": null,
   "metadata": {},
   "outputs": [],
   "source": [
    "# blobs = ski.feature.blob_log(k,threshold = 0.001)\n",
    "# blobs\n",
    "# plt.imshow(masks[1])"
   ]
  },
  {
   "cell_type": "code",
   "execution_count": null,
   "metadata": {},
   "outputs": [],
   "source": [
    "numBrightestPixels = 150\n",
    "F = np.zeros((img.shape[0],len(masks)))\n",
    "for maskID in range(len(masks)):\n",
    "    new_array = np.mean(np.flip(np.sort(img[:,masks[maskID]], axis=1), axis=1)[:,0:numBrightestPixels], axis=1)\n",
    "    F[:,maskID] = new_array\n",
    "F.shape\n",
    "\n",
    "plt.plot(F[:,0:2])"
   ]
  },
  {
   "cell_type": "code",
   "execution_count": null,
   "metadata": {},
   "outputs": [],
   "source": [
    "# Save data\n",
    "fnameF = fname.replace('.tif','') + '.F.npy'\n",
    "np.save(fnameF, F)\n",
    "\n",
    "np.load(fnameF)"
   ]
  },
  {
   "cell_type": "code",
   "execution_count": null,
   "metadata": {},
   "outputs": [],
   "source": [
    "import glob\n",
    "\n",
    "files = sorted(glob.glob(r'/Users/lotus/Desktop/Python/Testing' + '/*.npy')) #sorts file names\n",
    "arrays = []\n",
    "for f in files:\n",
    "    arrays.append(np.load(f))\n",
    "data = np.concatenate(arrays, axis=1)\n",
    "print(data)\n",
    "\n",
    "#try to use np arange and make the start and stop value the length of the shorter file "
   ]
  },
  {
   "cell_type": "code",
   "execution_count": null,
   "metadata": {},
   "outputs": [],
   "source": [
    "# Append all F data for each worm\n",
    "\n",
    "\"\"\"imgs = ([file for root, dirs, files in os.walk('/Users/lotus/Desktop/Python/Testing')\n",
    "    for file in files\n",
    "        if file.endswith('.npy') ])\n",
    "\n",
    "F_all = []\n",
    "\n",
    "for i in imgs:\n",
    "    test = np.load(i)   \n",
    "    print(test)\n",
    "\n",
    "\n",
    "npfiles = glob.glob(\"*.npy\")\n",
    "npfiles.sort()\n",
    "all_arrays = []\n",
    "for npfile in npfiles:\n",
    "    all_arrays.append(np.load(os.path.join(npyfilespath, npfile)))\n",
    "all_arrays = np.array(all_arrays)\n",
    "np.save(f_handle, all_array)\n",
    "\n",
    "\n",
    "import glob\n",
    "files = sorted(glob.glob(r'/Users/lotus/Desktop/Python/Testing' + '/*.npy')) #sorts file names\n",
    "arrays = np.zeros((1800,3))\n",
    "for f in files:\n",
    "    arrays.append(np.load(f))\n",
    "data = np.hstack(arrays)\n",
    "print(data)\n",
    "\n",
    "listing = os.listdir('/Users/lotus/Desktop/Python/Testing')\n",
    "my_array=np.zeros((1800,3))\n",
    "for infile in listing:\n",
    "    dataset = open(infile).readlines()\n",
    "    #data = np.genfromtxt(dataset, usecols=(1,6,7,8,9))\n",
    "    data = np.genfromtxt(dataset)\n",
    "    my_array = np.vstack((my_array, data))\n",
    "    print(my_array)\n",
    "\"\"\"    \n",
    "  \n",
    "import glob\n",
    "files = sorted(glob.glob(r'/Users/lotus/Desktop/Python/Testing' + '/*.npy')) #sorts file names\n",
    "arrays = []\n",
    "for f in files:\n",
    "    arrays.append(np.load(f))\n",
    "data = np.concatenate(arrays)\n",
    "print(data)\n"
   ]
  },
  {
   "cell_type": "code",
   "execution_count": null,
   "metadata": {},
   "outputs": [],
   "source": [
    "fig, ax = plt.subplots(1,1, figsize=(14,14), facecolor='w')\n",
    "ax.plot(F)\n",
    "ax.set_title('Raw Fluorescence for file \\n {}'.format(fname))\n",
    "ax.set_xlabel('Time (frame)')\n",
    "ax.set_ylabel('Fluorescence (a.u.)')\n",
    "ax.set_ylim([0,1])\n",
    "fig.savefig(fnameF + '-raw.png', dpi = 300)"
   ]
  },
  {
   "cell_type": "code",
   "execution_count": null,
   "metadata": {},
   "outputs": [],
   "source": [
    "### BG subtract ###\n",
    "\n",
    "F_corr = F\n",
    "\n",
    "data = range(0, len(F_corr[-1,:]))\n",
    "\n",
    "for i in data:\n",
    "    F_corr[:,i] = F_corr[:,i] - F_corr[:,-1]\n",
    "    \n",
    "fig, ax = plt.subplots(1,1, figsize=(14,14), facecolor='w')\n",
    "ax.plot(F_corr[:,:-1])\n",
    "ax.set_title('Corrected Fluorescence for file \\n {}'.format(fname))\n",
    "ax.set_xlabel('Time (frame)')\n",
    "ax.set_ylabel('Fluorescence (a.u.)')\n",
    "fig.savefig(fnameF + '-bgcorr.png', dpi = 300)"
   ]
  },
  {
   "cell_type": "code",
   "execution_count": null,
   "metadata": {},
   "outputs": [],
   "source": [
    "Fmin = np.amin(F_corr, axis=0) #axis 0 is rows, 1 is columns\n",
    "#print(Fmin)\n",
    "Fmax = np.amax(F_corr, axis=0)\n",
    "#print(Fmax)\n",
    "\n",
    "dyn = (F_corr - Fmin)/Fmin\n",
    "\n",
    "fig, ax = plt.subplots(1,1, figsize=(14,14), facecolor='w')\n",
    "ax.plot(dyn)\n",
    "ax.set_title('Dynamic Range for file \\n {}'.format(fname))\n",
    "ax.set_xlabel('Time (frame)')\n",
    "ax.set_ylabel('Fold Change in Fluorescence (a.u.)')\n",
    "fig.savefig(fnameF + '-dyn.png', dpi = 300)\n"
   ]
  },
  {
   "cell_type": "code",
   "execution_count": null,
   "metadata": {},
   "outputs": [],
   "source": [
    "bis = ((F_corr - Fmin) / (Fmax - Fmin))\n",
    "#print(bis)\n",
    "\n",
    "fig, ax = plt.subplots(1,1, figsize=(14,14), facecolor='w')\n",
    "ax.plot(bis)\n",
    "ax.set_title('Bistable State for file \\n {}'.format(fname))\n",
    "ax.set_xlabel('Time (frame)')\n",
    "ax.set_ylabel('Normalized Change in Fluorescence (a.u.)')\n",
    "ax.set_ylim([0,1])\n",
    "fig.savefig(fnameF + '-bis.png', dpi = 300)"
   ]
  },
  {
   "cell_type": "code",
   "execution_count": null,
   "metadata": {},
   "outputs": [],
   "source": []
  },
  {
   "cell_type": "code",
   "execution_count": null,
   "metadata": {},
   "outputs": [],
   "source": []
  },
  {
   "cell_type": "code",
   "execution_count": null,
   "metadata": {},
   "outputs": [],
   "source": []
  },
  {
   "cell_type": "code",
   "execution_count": null,
   "metadata": {},
   "outputs": [],
   "source": []
  },
  {
   "cell_type": "code",
   "execution_count": null,
   "metadata": {},
   "outputs": [],
   "source": []
  },
  {
   "cell_type": "code",
   "execution_count": null,
   "metadata": {},
   "outputs": [],
   "source": []
  },
  {
   "cell_type": "code",
   "execution_count": null,
   "metadata": {},
   "outputs": [],
   "source": []
  },
  {
   "cell_type": "code",
   "execution_count": null,
   "metadata": {},
   "outputs": [],
   "source": []
  }
 ],
 "metadata": {
  "kernelspec": {
   "display_name": "Python 3",
   "language": "python",
   "name": "python3"
  },
  "language_info": {
   "codemirror_mode": {
    "name": "ipython",
    "version": 3
   },
   "file_extension": ".py",
   "mimetype": "text/x-python",
   "name": "python",
   "nbconvert_exporter": "python",
   "pygments_lexer": "ipython3",
   "version": "3.8.3"
  }
 },
 "nbformat": 4,
 "nbformat_minor": 4
}
