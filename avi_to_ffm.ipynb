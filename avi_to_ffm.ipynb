{
 "cells": [
  {
   "cell_type": "code",
   "execution_count": 1,
   "metadata": {},
   "outputs": [],
   "source": [
    "#\n",
    "# This is the 1st script in the spider behavior analysis pipeline for AVI inputs. It goes through a folder \n",
    "# of AVI video recording chunks, and finds the moving and static frames. \n",
    "#\n",
    "# The frames containing movement are then transcoded to FMF for further processing with compress_behavior_videos\n",
    "#\n",
    "# Static frames are already excluded in compress_behavior_videos, which takes FMF as input. \n",
    "# Therefore raw FMF recordings do not have to be pre-processed\n",
    "#"
   ]
  },
  {
   "cell_type": "markdown",
   "metadata": {},
   "source": [
    "# Globals"
   ]
  },
  {
   "cell_type": "code",
   "execution_count": 11,
   "metadata": {},
   "outputs": [],
   "source": [
    "#DATA_DIR = 'D:/behavior/785/'\n",
    "#DATA_DIR = 'D:/data/2019-04-11/raw/'\n",
    "\n",
    "DATA_DIR = r\"C:\\Users\\Hsin-Yi\\Documents\\GitHub\\web_vibration\""
   ]
  },
  {
   "cell_type": "code",
   "execution_count": 2,
   "metadata": {},
   "outputs": [],
   "source": [
    "N_PARALLEL = 1"
   ]
  },
  {
   "cell_type": "markdown",
   "metadata": {},
   "source": [
    "# Imports"
   ]
  },
  {
   "cell_type": "code",
   "execution_count": 3,
   "metadata": {},
   "outputs": [],
   "source": [
    "import os, psutil, sys, numpy as np, scipy.io, imageio\n",
    "from joblib import Parallel, delayed\n",
    "from tqdm import tqdm_notebook as tqdm"
   ]
  },
  {
   "cell_type": "code",
   "execution_count": 4,
   "metadata": {},
   "outputs": [],
   "source": [
    "# Add repository root to path in directory/path-independent way. Add this to every file for convenience.\n",
    "import os,sys; ROOT = os.getcwd()[:os.getcwd().rfind('spider-behavior') +  len('spider-behavior')]; sys.path.append(ROOT)\n",
    "\n",
    "# Add motmot library\n",
    "sys.path.append(os.path.join(ROOT, 'libraries'))\n",
    "import motmot.FlyMovieFormat.FlyMovieFormat as fmf\n",
    "import motmot.ufmf.ufmf as ufmf"
   ]
  },
  {
   "cell_type": "code",
   "execution_count": 5,
   "metadata": {},
   "outputs": [],
   "source": [
    "# Set process priority to lowest\n",
    "psutil.Process(os.getpid()).nice(psutil.IDLE_PRIORITY_CLASS)"
   ]
  },
  {
   "cell_type": "markdown",
   "metadata": {},
   "source": [
    "# Transcode AVI to FMF"
   ]
  },
  {
   "cell_type": "code",
   "execution_count": 13,
   "metadata": {},
   "outputs": [
    {
     "data": {
      "text/plain": [
       "(8,\n",
       " ['C:\\\\Users\\\\Hsin-Yi\\\\Documents\\\\GitHub\\\\web_vibration\\\\200_snr_threshold20_grid16.avi',\n",
       "  'C:\\\\Users\\\\Hsin-Yi\\\\Documents\\\\GitHub\\\\web_vibration\\\\300_snr_threshold20_grid16.avi',\n",
       "  'C:\\\\Users\\\\Hsin-Yi\\\\Documents\\\\GitHub\\\\web_vibration\\\\400_snr_threshold20_grid16.avi',\n",
       "  'C:\\\\Users\\\\Hsin-Yi\\\\Documents\\\\GitHub\\\\web_vibration\\\\500_snr_threshold20_grid16.avi',\n",
       "  'C:\\\\Users\\\\Hsin-Yi\\\\Documents\\\\GitHub\\\\web_vibration\\\\web_200hz-009.avi',\n",
       "  'C:\\\\Users\\\\Hsin-Yi\\\\Documents\\\\GitHub\\\\web_vibration\\\\web_300hz-007.avi',\n",
       "  'C:\\\\Users\\\\Hsin-Yi\\\\Documents\\\\GitHub\\\\web_vibration\\\\web_400hz-003.avi',\n",
       "  'C:\\\\Users\\\\Hsin-Yi\\\\Documents\\\\GitHub\\\\web_vibration\\\\web_500hz-008.avi'])"
      ]
     },
     "execution_count": 13,
     "metadata": {},
     "output_type": "execute_result"
    }
   ],
   "source": [
    "# Gather list of output files\n",
    "filesAVI = [os.path.join(DATA_DIR, x) for x in os.listdir(DATA_DIR) if x.lower().endswith('.avi')]\n",
    "len(filesAVI), filesAVI[:]"
   ]
  },
  {
   "cell_type": "code",
   "execution_count": 14,
   "metadata": {},
   "outputs": [],
   "source": [
    "def transcodeAVItoFMF(fnameAVI, overwrite=False):\n",
    "    try:\n",
    "        # Output file name\n",
    "        fnameFMF = fnameAVI[:-4] + '.fmf'\n",
    "\n",
    "        if not os.path.exists(fnameFMF) or overwrite:\n",
    "            # Open reader\n",
    "            readerAVI = imageio.get_reader(fnameAVI)\n",
    "            # Open output file\n",
    "            writerFMF = fmf.FlyMovieSaver(fnameFMF, version=3, format='MONO8')\n",
    "            # Iterate frames\n",
    "            fidx = 0\n",
    "            buf = []\n",
    "            for frame in tqdm(readerAVI.iter_data(), leave=False):\n",
    "                # Even though movies are stored in RGB, they are \n",
    "                frame = np.mean(frame, axis=2).astype(np.uint8)\n",
    "                # Get timestamp\n",
    "                fnameTimestamps = fnameAVI.replace('.avi','_timestamps.mat')\n",
    "                # ... TODO ...\n",
    "                # scipy.io.loadmat(fnameTimestamps)['filetime']\n",
    "                # Add frame to buffer\n",
    "                buf.append((frame, fidx))\n",
    "                fidx += 1\n",
    "                # If buffer grows too large, write it to disk\n",
    "                # Note: Writing in a buffered way prevents inefficient disk seeking from multiple processes\n",
    "                if len(buf) > 500:\n",
    "                    [writerFMF.add_frame(*b) for b in buf]\n",
    "                    buf = []\n",
    "            # Write remaining buffer frames\n",
    "            [writerFMF.add_frame(*b) for b in buf]\n",
    "            del buf\n",
    "            # Close files\n",
    "            readerAVI.close()\n",
    "            writerFMF.close()\n",
    "        # Done!\n",
    "        return True\n",
    "    except Exception as e:\n",
    "        print(fnameAVI, e)\n",
    "        return False\n",
    "    imageio._proc.kill()"
   ]
  },
  {
   "cell_type": "code",
   "execution_count": 15,
   "metadata": {},
   "outputs": [
    {
     "name": "stderr",
     "output_type": "stream",
     "text": [
      "<ipython-input-14-9d404704ff14>:14: TqdmDeprecationWarning: This function will be removed in tqdm==5.0.0\n",
      "Please use `tqdm.notebook.tqdm` instead of `tqdm.tqdm_notebook`\n",
      "  for frame in tqdm(readerAVI.iter_data(), leave=False):\n"
     ]
    },
    {
     "data": {
      "application/vnd.jupyter.widget-view+json": {
       "model_id": "",
       "version_major": 2,
       "version_minor": 0
      },
      "text/plain": [
       "HBox(children=(FloatProgress(value=1.0, bar_style='info', max=1.0), HTML(value='')))"
      ]
     },
     "metadata": {},
     "output_type": "display_data"
    },
    {
     "data": {
      "text/plain": [
       "True"
      ]
     },
     "execution_count": 15,
     "metadata": {},
     "output_type": "execute_result"
    }
   ],
   "source": [
    "transcodeAVItoFMF([x for x in filesAVI if 'hz' in x][0], overwrite=False)"
   ]
  },
  {
   "cell_type": "code",
   "execution_count": 16,
   "metadata": {},
   "outputs": [
    {
     "name": "stderr",
     "output_type": "stream",
     "text": [
      "<ipython-input-16-9ceac6b19eae>:3: TqdmDeprecationWarning: This function will be removed in tqdm==5.0.0\n",
      "Please use `tqdm.notebook.tqdm` instead of `tqdm.tqdm_notebook`\n",
      "  results = Parallel(n_jobs=N_PARALLEL)(delayed(transcodeAVItoFMF)(fnameAVI, overwrite) for fnameAVI in tqdm(filesAVI))\n"
     ]
    },
    {
     "data": {
      "application/vnd.jupyter.widget-view+json": {
       "model_id": "fa4f1dfeca734639bc00af9b2bf9073b",
       "version_major": 2,
       "version_minor": 0
      },
      "text/plain": [
       "HBox(children=(FloatProgress(value=0.0, max=8.0), HTML(value='')))"
      ]
     },
     "metadata": {},
     "output_type": "display_data"
    },
    {
     "name": "stderr",
     "output_type": "stream",
     "text": [
      "<ipython-input-14-9d404704ff14>:14: TqdmDeprecationWarning: This function will be removed in tqdm==5.0.0\n",
      "Please use `tqdm.notebook.tqdm` instead of `tqdm.tqdm_notebook`\n",
      "  for frame in tqdm(readerAVI.iter_data(), leave=False):\n"
     ]
    },
    {
     "data": {
      "application/vnd.jupyter.widget-view+json": {
       "model_id": "",
       "version_major": 2,
       "version_minor": 0
      },
      "text/plain": [
       "HBox(children=(FloatProgress(value=1.0, bar_style='info', max=1.0), HTML(value='')))"
      ]
     },
     "metadata": {},
     "output_type": "display_data"
    },
    {
     "data": {
      "application/vnd.jupyter.widget-view+json": {
       "model_id": "",
       "version_major": 2,
       "version_minor": 0
      },
      "text/plain": [
       "HBox(children=(FloatProgress(value=1.0, bar_style='info', max=1.0), HTML(value='')))"
      ]
     },
     "metadata": {},
     "output_type": "display_data"
    },
    {
     "data": {
      "application/vnd.jupyter.widget-view+json": {
       "model_id": "",
       "version_major": 2,
       "version_minor": 0
      },
      "text/plain": [
       "HBox(children=(FloatProgress(value=1.0, bar_style='info', max=1.0), HTML(value='')))"
      ]
     },
     "metadata": {},
     "output_type": "display_data"
    },
    {
     "data": {
      "application/vnd.jupyter.widget-view+json": {
       "model_id": "",
       "version_major": 2,
       "version_minor": 0
      },
      "text/plain": [
       "HBox(children=(FloatProgress(value=1.0, bar_style='info', max=1.0), HTML(value='')))"
      ]
     },
     "metadata": {},
     "output_type": "display_data"
    },
    {
     "data": {
      "application/vnd.jupyter.widget-view+json": {
       "model_id": "",
       "version_major": 2,
       "version_minor": 0
      },
      "text/plain": [
       "HBox(children=(FloatProgress(value=1.0, bar_style='info', max=1.0), HTML(value='')))"
      ]
     },
     "metadata": {},
     "output_type": "display_data"
    },
    {
     "data": {
      "application/vnd.jupyter.widget-view+json": {
       "model_id": "",
       "version_major": 2,
       "version_minor": 0
      },
      "text/plain": [
       "HBox(children=(FloatProgress(value=1.0, bar_style='info', max=1.0), HTML(value='')))"
      ]
     },
     "metadata": {},
     "output_type": "display_data"
    },
    {
     "data": {
      "application/vnd.jupyter.widget-view+json": {
       "model_id": "",
       "version_major": 2,
       "version_minor": 0
      },
      "text/plain": [
       "HBox(children=(FloatProgress(value=1.0, bar_style='info', max=1.0), HTML(value='')))"
      ]
     },
     "metadata": {},
     "output_type": "display_data"
    },
    {
     "name": "stdout",
     "output_type": "stream",
     "text": [
      "\n"
     ]
    }
   ],
   "source": [
    "# Transcode all AVIs\n",
    "overwrite = False\n",
    "results = Parallel(n_jobs=N_PARALLEL)(delayed(transcodeAVItoFMF)(fnameAVI, overwrite) for fnameAVI in tqdm(filesAVI))"
   ]
  },
  {
   "cell_type": "code",
   "execution_count": null,
   "metadata": {},
   "outputs": [],
   "source": []
  },
  {
   "cell_type": "code",
   "execution_count": null,
   "metadata": {},
   "outputs": [],
   "source": []
  },
  {
   "cell_type": "code",
   "execution_count": null,
   "metadata": {},
   "outputs": [],
   "source": []
  },
  {
   "cell_type": "code",
   "execution_count": null,
   "metadata": {},
   "outputs": [],
   "source": []
  },
  {
   "cell_type": "code",
   "execution_count": null,
   "metadata": {},
   "outputs": [],
   "source": []
  }
 ],
 "metadata": {
  "kernelspec": {
   "display_name": "Python 3",
   "language": "python",
   "name": "python3"
  },
  "language_info": {
   "codemirror_mode": {
    "name": "ipython",
    "version": 3
   },
   "file_extension": ".py",
   "mimetype": "text/x-python",
   "name": "python",
   "nbconvert_exporter": "python",
   "pygments_lexer": "ipython3",
   "version": "3.8.3"
  }
 },
 "nbformat": 4,
 "nbformat_minor": 2
}
